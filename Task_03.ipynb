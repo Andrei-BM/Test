{
  "nbformat": 4,
  "nbformat_minor": 0,
  "metadata": {
    "colab": {
      "provenance": []
    },
    "kernelspec": {
      "name": "python3",
      "display_name": "Python 3"
    },
    "language_info": {
      "name": "python"
    }
  },
  "cells": [
    {
      "cell_type": "code",
      "source": [
        "!pip install PySpark\n",
        "!pip install findSpark"
      ],
      "metadata": {
        "colab": {
          "base_uri": "https://localhost:8080/"
        },
        "id": "QbuxkKmL1gx_",
        "outputId": "bcbbfe5a-8461-42a4-8518-7010f5d220a3"
      },
      "execution_count": null,
      "outputs": [
        {
          "output_type": "stream",
          "name": "stdout",
          "text": [
            "Collecting findSpark\n",
            "  Downloading findspark-2.0.1-py2.py3-none-any.whl (4.4 kB)\n",
            "Installing collected packages: findSpark\n",
            "Successfully installed findSpark-2.0.1\n"
          ]
        }
      ]
    },
    {
      "cell_type": "code",
      "source": [
        "import pyspark\n",
        "import findspark\n",
        "\n",
        "findspark.init()\n",
        "from pyspark.sql import SparkSession\n",
        "spark = SparkSession.builder.master(\"local[*]\").getOrCreate()\n",
        "\n",
        "from pyspark.sql.types import StructType, StructField, StringType, IntegerType"
      ],
      "metadata": {
        "id": "y1PZyNqy2DC-"
      },
      "execution_count": null,
      "outputs": []
    },
    {
      "cell_type": "code",
      "source": [
        "df = spark.createDataFrame([('монитор', 1, 1, 0), ('телевизор', 1, 0, 0), ('ОЗУ', 1, 1, 0), ('ваучер', 0, 0, 0)], schema=['name', 'electronics', 'computer', 'discont'])\n",
        "df.show()"
      ],
      "metadata": {
        "colab": {
          "base_uri": "https://localhost:8080/"
        },
        "id": "l5yCvrds2KnL",
        "outputId": "7b8b4b37-1d01-4188-aeb1-0476ecbdbc50"
      },
      "execution_count": null,
      "outputs": [
        {
          "output_type": "stream",
          "name": "stdout",
          "text": [
            "+---------+-----------+--------+-------+\n",
            "|     name|electronics|computer|discont|\n",
            "+---------+-----------+--------+-------+\n",
            "|  монитор|          1|       1|      0|\n",
            "|телевизор|          1|       0|      0|\n",
            "|      ОЗУ|          1|       1|      0|\n",
            "|   ваучер|          0|       0|      0|\n",
            "+---------+-----------+--------+-------+\n",
            "\n"
          ]
        }
      ]
    },
    {
      "cell_type": "code",
      "source": [
        "def make_category_list(df):\n",
        "\n",
        "    ''' Из полученного PySpark DataFrame строится новый, содержащий 2 колонки:\n",
        "    (Название товара, Категория) В колонку \"Категория\" записывается название\n",
        "    категории товара (колонки из полученного DataFrame).\n",
        "    Если товар не числится ни в одной из категории, записывается значение 'none'\n",
        "    Предполагается, что товары маркированы 1 если входят в какую-либо категорию\n",
        "    или 0 если нет.\n",
        "    '''\n",
        "\n",
        "    def select_and_fill(data, col1:str, col2:str, name:str, value, new_value):\n",
        "\n",
        "        ''' Функция выбирает колонки (col1, col2) из DataFrame (data)\n",
        "            Переименовывает col2 в заданное имя (name)\n",
        "            Изменяет тип данных переименованной колонки\n",
        "            Заменяет значение (value) в колонке на новое значение (new_value)\n",
        "            Возвращает новый DataFrame\n",
        "        '''\n",
        "\n",
        "        new_data = data[col1, data[col2].cast(StringType())].withColumnRenamed(col2, name)\n",
        "        new_data = new_data.na.replace(str(value), new_value)\n",
        "\n",
        "        return new_data\n",
        "\n",
        "    # Колонка содержащая наименования\n",
        "    first_col = df.columns[0]\n",
        "\n",
        "    flag = False\n",
        "\n",
        "\n",
        "    for col in df.columns[1:]:\n",
        "        # Проиходися в цикле по списку колонок и выбираем строки по условию\n",
        "\n",
        "        df1 = df[first_col, col].where(df[col] > 0)\n",
        "        # Передаем в доп. функцию на обработку\n",
        "        df1 = select_and_fill(df1, first_col, col, 'category', 1, col)\n",
        "\n",
        "        if flag:\n",
        "            result = result.union(df1) # Объединяем в один DataFrame\n",
        "        else:\n",
        "            result = df1\n",
        "            flag = True\n",
        "    # Ищем товары без категорий.\n",
        "    df2 = df # Создаем копию данных\n",
        "    for col in df.columns[1:][::-1]:\n",
        "        df2 = df2.where(df2[col] == 0)\n",
        "    df2 = select_and_fill(df2, first_col, col, 'category', 0, 'none')\n",
        "    result = result.union(df2).sort('category')\n",
        "\n",
        "    return result"
      ],
      "metadata": {
        "id": "JqABPIHwB2Wf"
      },
      "execution_count": null,
      "outputs": []
    },
    {
      "cell_type": "code",
      "source": [
        "a = make_category_list(df)\n",
        "a.show()"
      ],
      "metadata": {
        "colab": {
          "base_uri": "https://localhost:8080/"
        },
        "id": "jIZC_wy-3uJ8",
        "outputId": "e9ea79b3-d7ab-4aba-f761-35ce131ed649"
      },
      "execution_count": null,
      "outputs": [
        {
          "output_type": "stream",
          "name": "stdout",
          "text": [
            "+---------+-----------+\n",
            "|     name|   category|\n",
            "+---------+-----------+\n",
            "|      ОЗУ|   computer|\n",
            "|  монитор|   computer|\n",
            "|  монитор|electronics|\n",
            "|      ОЗУ|electronics|\n",
            "|телевизор|electronics|\n",
            "|   ваучер|       none|\n",
            "+---------+-----------+\n",
            "\n"
          ]
        }
      ]
    }
  ]
}